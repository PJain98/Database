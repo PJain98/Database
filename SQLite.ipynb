{
 "cells": [
  {
   "cell_type": "code",
   "execution_count": 8,
   "metadata": {},
   "outputs": [],
   "source": [
    "# importing sqlite\n",
    "import sqlite3\n",
    "#connecting with the database.\n",
    "db = sqlite3.connect(\"company_database2.db\")"
   ]
  },
  {
   "cell_type": "code",
   "execution_count": 9,
   "metadata": {},
   "outputs": [],
   "source": [
    "c = db.cursor()"
   ]
  },
  {
   "cell_type": "code",
   "execution_count": 10,
   "metadata": {},
   "outputs": [
    {
     "data": {
      "text/plain": [
       "<sqlite3.Cursor at 0x2ab554bb730>"
      ]
     },
     "execution_count": 10,
     "metadata": {},
     "output_type": "execute_result"
    }
   ],
   "source": [
    "# Create table\n",
    "c.execute('CREATE TABLE company1(ID int, Name text, Age int, Address text, Salary real)')"
   ]
  },
  {
   "cell_type": "code",
   "execution_count": 11,
   "metadata": {},
   "outputs": [
    {
     "data": {
      "text/plain": [
       "<sqlite3.Cursor at 0x2ab554bb730>"
      ]
     },
     "execution_count": 11,
     "metadata": {},
     "output_type": "execute_result"
    }
   ],
   "source": [
    "# Insert a row of data only by providing values\n",
    "c.execute(\"INSERT INTO company1 VALUES (1, 'Jhon', 32, 'Bangalore', 100000.00)\")\n",
    "c.execute(\"INSERT INTO company1 VALUES (2, 'Jhon', 32, 'Bangalore', 100000.00)\")"
   ]
  },
  {
   "cell_type": "code",
   "execution_count": 12,
   "metadata": {},
   "outputs": [],
   "source": [
    "data=c.execute(\"SELECT * FROM company1\")"
   ]
  },
  {
   "cell_type": "code",
   "execution_count": 13,
   "metadata": {},
   "outputs": [
    {
     "data": {
      "text/plain": [
       "<sqlite3.Cursor at 0x2ab554bb730>"
      ]
     },
     "execution_count": 13,
     "metadata": {},
     "output_type": "execute_result"
    }
   ],
   "source": [
    "data"
   ]
  },
  {
   "cell_type": "code",
   "execution_count": 14,
   "metadata": {},
   "outputs": [
    {
     "name": "stdout",
     "output_type": "stream",
     "text": [
      "(1, 'Jhon', 32, 'Bangalore', 100000.0)\n",
      "(2, 'Jhon', 32, 'Bangalore', 100000.0)\n"
     ]
    }
   ],
   "source": [
    "for i in data:\n",
    "    print(i)"
   ]
  },
  {
   "cell_type": "code",
   "execution_count": 16,
   "metadata": {},
   "outputs": [
    {
     "data": {
      "text/plain": [
       "<sqlite3.Cursor at 0x2ab554bb730>"
      ]
     },
     "execution_count": 16,
     "metadata": {},
     "output_type": "execute_result"
    }
   ],
   "source": [
    "# Insert a row of data\n",
    "c.execute(\"INSERT INTO company1 (ID, Name, Age, Address, Salary) VALUES (3, 'Venkat', 42, 'Chennai', 400000.00)\")\n",
    "\n",
    "c.execute(\"INSERT INTO company1 (ID, Name, Age, Address, Salary) VALUES (4, 'Raju', 31, 'Madurai', 400000.00)\")\n",
    "\n",
    "c.execute(\"INSERT INTO company1 (ID, Name, Age, Address, Salary) VALUES (5, 'Ankit', 25, 'Bangalore', 800000.00)\")\n",
    "\n",
    "c.execute(\"INSERT INTO company1 (ID, Name, Age, Address, Salary) VALUES (6, 'Ravi', 25, 'Bangalore', 800000.00)\")\n",
    "\n",
    "c.execute(\"INSERT INTO company1 (ID, Name, Age, Address, Salary) VALUES (7, 'Shivam', 25, 'Bangalore', 800000.00)\")"
   ]
  },
  {
   "cell_type": "code",
   "execution_count": 19,
   "metadata": {},
   "outputs": [
    {
     "name": "stdout",
     "output_type": "stream",
     "text": [
      "(1, 'Jhon', 32, 'Bangalore', 100000.0)\n",
      "(2, 'Jhon', 32, 'Bangalore', 100000.0)\n",
      "(3, 'Venkat', 42, 'Chennai', 400000.0)\n",
      "(4, 'Raju', 31, 'Madurai', 400000.0)\n",
      "(5, 'Ankit', 25, 'Bangalore', 800000.0)\n",
      "(6, 'Ravi', 25, 'Bangalore', 800000.0)\n",
      "(7, 'Shivam', 25, 'Bangalore', 800000.0)\n"
     ]
    }
   ],
   "source": [
    "data=c.execute(\"SELECT * FROM company1\")\n",
    "for i in data:\n",
    "    print(i)"
   ]
  },
  {
   "cell_type": "code",
   "execution_count": 20,
   "metadata": {},
   "outputs": [],
   "source": [
    "# Save (commit) the changes\n",
    "db.commit()"
   ]
  },
  {
   "cell_type": "code",
   "execution_count": 31,
   "metadata": {},
   "outputs": [],
   "source": [
    "# We can also close the connection if we are done with it.\n",
    "# Just be sure any changes have been committed or they will be lost.\n",
    "db.close()"
   ]
  },
  {
   "cell_type": "markdown",
   "metadata": {},
   "source": [
    "## Some Data Filtering Operation"
   ]
  },
  {
   "cell_type": "code",
   "execution_count": 32,
   "metadata": {},
   "outputs": [],
   "source": [
    "## Connecting to a Database\n",
    "db = sqlite3.connect(\"company_database2.db\")\n",
    "c=db.cursor()"
   ]
  },
  {
   "cell_type": "code",
   "execution_count": 33,
   "metadata": {},
   "outputs": [
    {
     "name": "stdout",
     "output_type": "stream",
     "text": [
      "(3, 'Venkat', 42, 'Chennai', 400000.0)\n",
      "(4, 'Raju', 31, 'Madurai', 400000.0)\n",
      "(5, 'Ankit', 25, 'Bangalore', 800000.0)\n",
      "(6, 'Ravi', 25, 'Bangalore', 800000.0)\n",
      "(7, 'Shivam', 25, 'Bangalore', 800000.0)\n"
     ]
    }
   ],
   "source": [
    "'''\n",
    "Showing data for salary greater than 100000\n",
    "'''\n",
    "data=c.execute(\"select * from company1 where Salary >100000\")\n",
    "for x in data:\n",
    "    print(x)"
   ]
  },
  {
   "cell_type": "code",
   "execution_count": 35,
   "metadata": {},
   "outputs": [
    {
     "name": "stdout",
     "output_type": "stream",
     "text": [
      "('Jhon',)\n",
      "('Jhon',)\n",
      "('Ankit',)\n",
      "('Ravi',)\n",
      "('Shivam',)\n"
     ]
    }
   ],
   "source": [
    "'''\n",
    "Showing name from data where place is Bangalore\n",
    "'''\n",
    "data=c.execute(\"select Name from company1 where Address = 'Bangalore'\")\n",
    "for x in data:\n",
    "    print(x)"
   ]
  },
  {
   "cell_type": "code",
   "execution_count": 37,
   "metadata": {},
   "outputs": [
    {
     "name": "stdout",
     "output_type": "stream",
     "text": [
      "(5, 'Ankit')\n",
      "(6, 'Ravi')\n",
      "(7, 'Shivam')\n",
      "(4, 'Raju')\n",
      "(1, 'Jhon')\n",
      "(2, 'Jhon')\n",
      "(3, 'Venkat')\n"
     ]
    }
   ],
   "source": [
    "'''\n",
    "Showing ID and Name from data as per accending order of Age\n",
    "'''\n",
    "data=c.execute(\"select ID, Name from company1 order by Age\")\n",
    "for x in data:\n",
    "    print(x)"
   ]
  },
  {
   "cell_type": "code",
   "execution_count": 38,
   "metadata": {},
   "outputs": [
    {
     "name": "stdout",
     "output_type": "stream",
     "text": [
      "(3, 'Venkat', 42)\n",
      "(1, 'Jhon', 32)\n",
      "(2, 'Jhon', 32)\n",
      "(4, 'Raju', 31)\n",
      "(5, 'Ankit', 25)\n",
      "(6, 'Ravi', 25)\n",
      "(7, 'Shivam', 25)\n"
     ]
    }
   ],
   "source": [
    "'''\n",
    "Showing ID, Name and Age from data as per deccending order of Age\n",
    "'''\n",
    "data=c.execute(\"select ID, Name, Age from company1 order by Age desc\")\n",
    "for x in data:\n",
    "    print(x)"
   ]
  },
  {
   "cell_type": "markdown",
   "metadata": {},
   "source": [
    "## Table Drop"
   ]
  },
  {
   "cell_type": "code",
   "execution_count": 47,
   "metadata": {},
   "outputs": [
    {
     "data": {
      "text/plain": [
       "<sqlite3.Cursor at 0x2ab554e5420>"
      ]
     },
     "execution_count": 47,
     "metadata": {},
     "output_type": "execute_result"
    }
   ],
   "source": [
    "# importing sqlite\n",
    "import sqlite3\n",
    "\n",
    "#connecting with the database.\n",
    "db = sqlite3.connect(\"food_database1.db\")\n",
    "c = db.cursor()\n",
    "\n",
    "# Create table to store food name and their colories\n",
    "c.execute('CREATE TABLE food2(Name text, Calories int)') \n",
    "\n",
    "# Insert a row of data\n",
    "c.execute(\"INSERT INTO food2 VALUES ('Mango', 60)\")\n",
    "c.execute(\"INSERT INTO food2 VALUES ('Samosa',262)\")"
   ]
  },
  {
   "cell_type": "code",
   "execution_count": 48,
   "metadata": {},
   "outputs": [
    {
     "name": "stdout",
     "output_type": "stream",
     "text": [
      "('Mango', 60)\n",
      "('Samosa', 262)\n"
     ]
    }
   ],
   "source": [
    "data=c.execute(\"SELECT * FROM food2\")\n",
    "for i in data:\n",
    "    print(i)"
   ]
  },
  {
   "cell_type": "code",
   "execution_count": 49,
   "metadata": {},
   "outputs": [
    {
     "data": {
      "text/plain": [
       "<sqlite3.Cursor at 0x2ab554e5420>"
      ]
     },
     "execution_count": 49,
     "metadata": {},
     "output_type": "execute_result"
    }
   ],
   "source": [
    "## Its recommended to use this DROP command\n",
    "c.execute(\"DROP table IF EXISTS food2\")"
   ]
  },
  {
   "cell_type": "code",
   "execution_count": 50,
   "metadata": {},
   "outputs": [
    {
     "ename": "OperationalError",
     "evalue": "no such table: food2",
     "output_type": "error",
     "traceback": [
      "\u001b[1;31m---------------------------------------------------------------------------\u001b[0m",
      "\u001b[1;31mOperationalError\u001b[0m                          Traceback (most recent call last)",
      "\u001b[1;32m<ipython-input-50-50bcdc237ba2>\u001b[0m in \u001b[0;36m<module>\u001b[1;34m\u001b[0m\n\u001b[0;32m      1\u001b[0m \u001b[1;31m## Checking its deleted or not\u001b[0m\u001b[1;33m\u001b[0m\u001b[1;33m\u001b[0m\u001b[1;33m\u001b[0m\u001b[0m\n\u001b[1;32m----> 2\u001b[1;33m \u001b[0mc\u001b[0m\u001b[1;33m.\u001b[0m\u001b[0mexecute\u001b[0m\u001b[1;33m(\u001b[0m\u001b[1;34m\"DROP table food2\"\u001b[0m\u001b[1;33m)\u001b[0m\u001b[1;33m\u001b[0m\u001b[1;33m\u001b[0m\u001b[0m\n\u001b[0m",
      "\u001b[1;31mOperationalError\u001b[0m: no such table: food2"
     ]
    }
   ],
   "source": [
    "## Checking its deleted or not\n",
    "c.execute(\"DROP table food2\") "
   ]
  },
  {
   "cell_type": "code",
   "execution_count": null,
   "metadata": {},
   "outputs": [],
   "source": []
  }
 ],
 "metadata": {
  "kernelspec": {
   "display_name": "Python 3",
   "language": "python",
   "name": "python3"
  },
  "language_info": {
   "codemirror_mode": {
    "name": "ipython",
    "version": 3
   },
   "file_extension": ".py",
   "mimetype": "text/x-python",
   "name": "python",
   "nbconvert_exporter": "python",
   "pygments_lexer": "ipython3",
   "version": "3.8.3"
  }
 },
 "nbformat": 4,
 "nbformat_minor": 4
}
